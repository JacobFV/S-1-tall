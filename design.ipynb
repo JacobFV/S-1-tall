{
 "cells": [
  {
   "cell_type": "markdown",
   "metadata": {},
   "source": [
    "# S-1 Tall Rocket\n",
    "\n",
    "TODO: We need to update these links   \n",
    "[Project page](https://insert_link)   \n",
    "[Design Doc](https://insert_link)  \n",
    "[Google Drive](https://insert_link)  \n",
    "[OnShape](https://insert_link)  \n",
    "[Github](https://insert_link)  \n",
    "[YouTube](https://insert_link)  \n",
    "[Simulation](https://insert_link)\n",
    "\n",
    "![](img/full_horz_opaque_line_view.png)"
   ]
  },
  {
   "cell_type": "markdown",
   "metadata": {},
   "source": [
    "## Setup"
   ]
  },
  {
   "cell_type": "code",
   "execution_count": 1,
   "metadata": {},
   "outputs": [],
   "source": [
    "# imports\n",
    "import math\n",
    "import random\n",
    "import pint\n",
    "import numpy as np\n",
    "import matplotlib.pyplot as plt\n",
    "import pandas as pd\n",
    "import seaborn as sns"
   ]
  },
  {
   "cell_type": "code",
   "execution_count": 2,
   "metadata": {},
   "outputs": [],
   "source": [
    "# math\n",
    "pi = math.pi\n",
    "\n",
    "def sigmoid(x):\n",
    "    return 1 / (1 + math.exp(-x))\n",
    "\n",
    "def magnitude(v):\n",
    "    # Pythagoras' theorem generalized to any number of dimensions\n",
    "    return (v**2).sum()**0.5\n",
    "\n",
    "# engineering\n",
    "# `pint` handles automatic unit conversion and scaling\n",
    "u = pint.UnitRegistry()\n",
    "s = u.second\n",
    "kg = u.kilogram\n",
    "g = u.gram\n",
    "L = u.liter\n",
    "km = u.kilometer\n",
    "m = u.meter\n",
    "cm = u.centimeter\n",
    "mm = u.millimeter\n",
    "ft = u.foot\n",
    "inch = u.inch\n",
    "atm = u.atmosphere\n",
    "Pa = u.pascal\n",
    "K = u.kelvin\n",
    "J = u.joule\n",
    "mol = u.mole\n",
    "deg = u.degree\n",
    "rad = u.radian\n",
    "\n",
    "# plotting\n",
    "sns.set_style('whitegrid')"
   ]
  },
  {
   "cell_type": "markdown",
   "metadata": {},
   "source": [
    "## Design\n",
    "\n",
    "This section describes the design of the S-1 rocket using a mixture of code and natural language. Writing in code saves having to re-enter the same information into the simulator and makes exploring parameters easier."
   ]
  },
  {
   "cell_type": "code",
   "execution_count": 9,
   "metadata": {},
   "outputs": [],
   "source": [
    "class DragSurface:\n",
    "  # frontal drag\n",
    "  front_area: float\n",
    "  front_drag_coefficient: float \n",
    "  # used for wave drag\n",
    "  side_area: float\n",
    "  length: float # up-down length\n",
    "  thickness: float\n",
    "  sweep_angle: float\n",
    "  airfoil_technology_factor: float\n",
    "\n",
    "  def __init__(self, front_area, front_drag_coefficient, side_area, length, thickness, sweep_angle, airfoil_technology_factor):\n",
    "    self.front_area = front_area\n",
    "    self.front_drag_coefficient = front_drag_coefficient\n",
    "    self.side_area = side_area\n",
    "    self.length = length\n",
    "    self.thickness = thickness\n",
    "    self.sweep_angle = sweep_angle\n",
    "    self.airfoil_technology_factor = airfoil_technology_factor"
   ]
  },
  {
   "cell_type": "code",
   "execution_count": 8,
   "metadata": {},
   "outputs": [
    {
     "ename": "AssertionError",
     "evalue": "Initial reducer volume does not fit in tank",
     "output_type": "error",
     "traceback": [
      "\u001b[0;31m---------------------------------------------------------------------------\u001b[0m",
      "\u001b[0;31mAssertionError\u001b[0m                            Traceback (most recent call last)",
      "\u001b[1;32m/home/jacob/Code/S-1-tall/design.ipynb Cell 8\u001b[0m in \u001b[0;36m<cell line: 1>\u001b[0;34m()\u001b[0m\n\u001b[0;32m----> <a href='vscode-notebook-cell:/home/jacob/Code/S-1-tall/design.ipynb#ch0000007?line=0'>1</a>\u001b[0m \u001b[39mclass\u001b[39;00m \u001b[39mParams\u001b[39;00m:\n\u001b[1;32m      <a href='vscode-notebook-cell:/home/jacob/Code/S-1-tall/design.ipynb#ch0000007?line=1'>2</a>\u001b[0m \n\u001b[1;32m      <a href='vscode-notebook-cell:/home/jacob/Code/S-1-tall/design.ipynb#ch0000007?line=2'>3</a>\u001b[0m   \u001b[39m# geomety parameters\u001b[39;00m\n\u001b[1;32m      <a href='vscode-notebook-cell:/home/jacob/Code/S-1-tall/design.ipynb#ch0000007?line=3'>4</a>\u001b[0m   LENGTH \u001b[39m=\u001b[39m \u001b[39m188.5\u001b[39m \u001b[39m*\u001b[39m inch  \u001b[39m# base to nose length\u001b[39;00m\n\u001b[1;32m      <a href='vscode-notebook-cell:/home/jacob/Code/S-1-tall/design.ipynb#ch0000007?line=4'>5</a>\u001b[0m   WIDTH \u001b[39m=\u001b[39m \u001b[39m6\u001b[39m \u001b[39m*\u001b[39m inch  \u001b[39m# apothem length\u001b[39;00m\n",
      "\u001b[1;32m/home/jacob/Code/S-1-tall/design.ipynb Cell 8\u001b[0m in \u001b[0;36mParams\u001b[0;34m()\u001b[0m\n\u001b[1;32m     <a href='vscode-notebook-cell:/home/jacob/Code/S-1-tall/design.ipynb#ch0000007?line=18'>19</a>\u001b[0m   volume \u001b[39m=\u001b[39m mass \u001b[39m/\u001b[39m density\n\u001b[1;32m     <a href='vscode-notebook-cell:/home/jacob/Code/S-1-tall/design.ipynb#ch0000007?line=19'>20</a>\u001b[0m   \u001b[39massert\u001b[39;00m volume \u001b[39m<\u001b[39m\u001b[39m=\u001b[39m tank_volume, \u001b[39m\"\u001b[39m\u001b[39mInitial oxidizer volume does not fit in tank\u001b[39m\u001b[39m\"\u001b[39m\n\u001b[0;32m---> <a href='vscode-notebook-cell:/home/jacob/Code/S-1-tall/design.ipynb#ch0000007?line=20'>21</a>\u001b[0m \u001b[39mclass\u001b[39;00m \u001b[39mReducer\u001b[39;00m:\n\u001b[1;32m     <a href='vscode-notebook-cell:/home/jacob/Code/S-1-tall/design.ipynb#ch0000007?line=21'>22</a>\u001b[0m   tank_volume \u001b[39m=\u001b[39m \u001b[39m10\u001b[39m \u001b[39m*\u001b[39m L\n\u001b[1;32m     <a href='vscode-notebook-cell:/home/jacob/Code/S-1-tall/design.ipynb#ch0000007?line=22'>23</a>\u001b[0m   \u001b[39m# what is the reducer?\u001b[39;00m\n",
      "\u001b[1;32m/home/jacob/Code/S-1-tall/design.ipynb Cell 8\u001b[0m in \u001b[0;36mParams.Reducer\u001b[0;34m()\u001b[0m\n\u001b[1;32m     <a href='vscode-notebook-cell:/home/jacob/Code/S-1-tall/design.ipynb#ch0000007?line=25'>26</a>\u001b[0m mass \u001b[39m=\u001b[39m \u001b[39m12.0\u001b[39m\u001b[39m*\u001b[39mkg\n\u001b[1;32m     <a href='vscode-notebook-cell:/home/jacob/Code/S-1-tall/design.ipynb#ch0000007?line=26'>27</a>\u001b[0m volume \u001b[39m=\u001b[39m mass \u001b[39m/\u001b[39m density\n\u001b[0;32m---> <a href='vscode-notebook-cell:/home/jacob/Code/S-1-tall/design.ipynb#ch0000007?line=27'>28</a>\u001b[0m \u001b[39massert\u001b[39;00m volume \u001b[39m<\u001b[39m\u001b[39m=\u001b[39m tank_volume, \u001b[39m\"\u001b[39m\u001b[39mInitial reducer volume does not fit in tank\u001b[39m\u001b[39m\"\u001b[39m\n",
      "\u001b[0;31mAssertionError\u001b[0m: Initial reducer volume does not fit in tank"
     ]
    }
   ],
   "source": [
    "class Params:\n",
    "\n",
    "  # geomety parameters\n",
    "  class Body:\n",
    "    LENGTH = 188.5*inch  # base to nose length\n",
    "    WIDTH = 6*inch  # apothem length\n",
    "    WINGSPAN = 17.875*inch  # widest separation between wingtips\n",
    "    DRAG_COEFFICIENT = 0.1\n",
    "    NOSE_SWEEP_ANGLE = 25*deg\n",
    "\n",
    "  class Fins:\n",
    "    NUM = 4\n",
    "    THICKNESS = 0.125*inch\n",
    "    MAX_WIDTH = 3.0*inch # TODO: insert actual value\n",
    "    LENGTH = 7.5*inch # TODO: insert actual value\n",
    "    SWEEP = 15*deg # TODO: insert actual value\n",
    "\n",
    "  # TODO: check these parameters\n",
    "  # areodynamic parameters\n",
    "  body_drag_surface = DragSurface(\n",
    "    front_area=Body.WIDTH**2,\n",
    "    front_drag_coefficient=0.1,\n",
    "    side_area=4*Body.WIDTH*Body.LENGTH,\n",
    "    length=Body.LENGTH,\n",
    "    thickness=Body.WIDTH,\n",
    "    sweep_angle=Body.NOSE_SWEEP_ANGLE,\n",
    "    airfoil_technology_factor=0.9\n",
    "  )\n",
    "  fin_drag_surface = DragSurface(\n",
    "    front_area=Fins.THICKNESS*Fins.MAX_WIDTH,\n",
    "    front_drag_coefficient=0.1,\n",
    "    side_area=4*Fins.THICKNESS*Fins.LENGTH,\n",
    "    length=Fins.LENGTH,\n",
    "    thickness=Fins.THICKNESS,\n",
    "    sweep_angle=Fins.SWEEP,\n",
    "    airfoil_technology_factor=0.9\n",
    "  )\n",
    "  drag_surfaces = [body_drag_surface] + Fins.NUM * [fin_drag_surface]\n",
    "  \n",
    "  # fuel parameters\n",
    "  class Oxidizer:\n",
    "    tank_volume = 10 * L\n",
    "    concentration = 0.68 # 68% Nitric Acid, 32% of Water\n",
    "    density = 1.410*kg/L\n",
    "    # you can flip this around and use the mass to calculate the volume\n",
    "    mass = 12.0*kg\n",
    "    volume = mass / density\n",
    "    assert volume <= tank_volume, \"Initial oxidizer volume does not fit in tank\"\n",
    "  class Reducer:\n",
    "    tank_volume = 10 * L\n",
    "    # what is the reducer?\n",
    "    density = 0.800*kg/L\n",
    "    # you can flip this around and use the mass to calculate the volume\n",
    "    mass = 12.0*kg\n",
    "    volume = mass / density\n",
    "    assert volume <= tank_volume, \"Initial reducer volume does not fit in tank\"\n",
    "  # the ideal mixture ratio is 7.05:1 by mass or 4:1 by volume (oxidizer:reducer)\n",
    "  # however, the true ratio is determined by tank pressures, fuel masses, and fluid dynamics\n",
    "  # and should be simulated rather than assumed\n",
    "\n",
    "  # mass parameters\n",
    "  # TODO: separate some of these params into the fuel-specific classe and calculate upper and lower limits on mass\n",
    "  DRY_MASS = 18*kg\n",
    "  INITIAL_PROP_MASS = Oxidizer.mass + Reducer.mass\n",
    "  WET_MASS = DRY_MASS + INITIAL_PROP_MASS\n",
    "  TOTAL_MASS_RATIO = WET_MASS / DRY_MASS\n",
    "\n",
    "  # propulsion parameters\n",
    "  class Engine:\n",
    "    contraction_ratio = 1.0\n",
    "    exhaust_pressure = 1.0*atm\n",
    "    max_temp = 2149*K\n",
    "\n",
    "  # motion variables\n",
    "  SEA_LEVEL = 6,371.001*km  # average sea level. https://en.wikipedia.org/wiki/Sea_level#:~:text=It%20is%206%2C356.752%20km%20(3%2C949.903,(3%2C958.756%20mi)%20on%20average.\n",
    "  GROUND_ELEVATION_FROM_SEA_LEVEL = 367*ft  # Midlothian, TX. https://www.google.com/search?q=midlothian+altitude+above+sea+level&oq=midlothian+altitude+above+se&aqs=chrome.1.69i57j33i160.5307j0j7&sourceid=chrome&ie=UTF-8\n",
    "  GROUND_LEVEL = SEA_LEVEL + GROUND_ELEVATION_FROM_SEA_LEVEL\n",
    "  pos = np.array([0, 0, GROUND_LEVEL])*m\n",
    "  vel = np.array([0, 0, 0])*m/s\n",
    "  orientation = np.array([0, 0, 0])*deg # global frame\n",
    "  angular_vel = np.array([0, 0, 0])*rad/s # local frame\n",
    "\n",
    "  seed = random.randint() # keeps random values from being the same every time"
   ]
  },
  {
   "cell_type": "markdown",
   "metadata": {},
   "source": [
    "Now you can initialize a copy of the parameters without changing the original ones like so:"
   ]
  },
  {
   "cell_type": "code",
   "execution_count": 10,
   "metadata": {},
   "outputs": [
    {
     "name": "stdout",
     "output_type": "stream",
     "text": [
      "The `rocket` wet mass has been changed: 5 kilogram\n",
      "But the oringonal `S1_Tall` wet mass is still: 42 kilogram\n"
     ]
    }
   ],
   "source": [
    "params = Params()\n",
    "params.WET_MASS = 5*kg\n",
    "print('The `params` wet mass has been changed:', params.WET_MASS)\n",
    "print('But the oringonal `Params` wet mass is still:', Params.WET_MASS)"
   ]
  },
  {
   "cell_type": "markdown",
   "metadata": {},
   "source": [
    "I'm not sure how what these numbers mean\n",
    "  \n",
    "0.0247111043088 m^3  \n",
    "31.8279023497 kg of prop if 0% ullage  \n",
    "23.8709267623 kg of prop with 25% ullage  \n",
    "10 kg tank  \n",
    "0.511923525887 kg/s mass flow  \n",
    "3 inch diameter combustion chamber  \n",
    "1 inch diameter throat (15 degree)  \n",
    "3 inch diameter nozzle (15 degree)  \n",
    "6 in long chamber  \n",
    "ISP 169.54, 200.54  \n",
    "VEX 1662.60, 1966.63  \n",
    "At burnout which is 50 psi, mass flow 0.127980881472  \n",
    "ISP 87.21, 197.65  \n",
    "VEX 855.20, 1938.30"
   ]
  },
  {
   "cell_type": "markdown",
   "metadata": {},
   "source": [
    "Tank pressure -> mas flow -> ISP -> VEX"
   ]
  },
  {
   "cell_type": "markdown",
   "metadata": {},
   "source": [
    "## Simulation\n",
    "\n",
    "This section contains code to simulate the S-1-Tall rocket's trajectory and state during flight."
   ]
  },
  {
   "cell_type": "code",
   "execution_count": 16,
   "metadata": {},
   "outputs": [
    {
     "data": {
      "image/png": "[encoded data removed]",
      "text/plain": [
       "<Figure size 432x288 with 2 Axes>"
      ]
     },
     "metadata": {
      "needs_background": "light"
     },
     "output_type": "display_data"
    }
   ],
   "source": [
    "def atmospheric_change_factor(altitude):\n",
    "  altitude = max(altitude, 0)  # ignore negative altitudes\n",
    "  # I assume the standard temperature lapse rate equals zero\n",
    "  # https://en.wikipedia.org/wiki/Barometric_formula\n",
    "  return math.exp(\n",
    "    ((-9.80665*m/s**2) * (0.0289644*kg/mol) * altitude) /\n",
    "    ((8.3144598*J/(mol*K)) * (273*K)))\n",
    "\n",
    "def pressure_at_altitude(altitude):\n",
    "  # https://en.wikipedia.org/wiki/Barometric_formula#Pressure_equations\n",
    "  # P(h) = P0 * exp(-g * M * h / (R*T))\n",
    "  return 101325*Pa * atmospheric_change_factor(altitude)\n",
    "\n",
    "def density_at_altitude(altitude):\n",
    "  # https://en.wikipedia.org/wiki/Barometric_formula#Density_equations\n",
    "  # p(h) = p0 * exp(-g * M * h / (R*T))\n",
    "  return 1.225*kg/L * atmospheric_change_factor(altitude)\n",
    "\n",
    "def speed_of_sound_at_altitude(altitude):\n",
    "  # c(h) = c0 * sqrt(1 + g * M * h / (R*T))\n",
    "  # TODO: what is the actual formula?\n",
    "  return 343*m/s\n",
    "\n",
    "def drag_coefficient_at_altitude(\n",
    "  normal_drag_coefficient, altitude, orientation, velocity, wind_speed,\n",
    "  sweep_angle, length, thickness, airfoil_technology_factor=0.8):\n",
    "  # I couldn't find a good reference for what an airfoil technology factor is\n",
    "  # some values are 0.87 and 0.95: http://www.dept.aoe.vt.edu/~mason/Mason_f/ConfigAeroTransonics.pdf\n",
    "  # so I felt 0.8 makes a reasonable assumption\n",
    "\n",
    "  speed_of_sound = speed_of_sound_at_altitude(altitude)\n",
    "  relative_velocity = velocity - wind_speed\n",
    "  mach_number = magnitude(relative_velocity) / speed_of_sound\n",
    "\n",
    "  # thickness-chord ratio, also known as relative thickness. https://en.wikipedia.org/wiki/Thickness-to-chord_ratio\n",
    "  thickness_chord_ratio = thickness / length\n",
    "  \n",
    "  # https://aviation.stackexchange.com/questions/55169/how-can-one-approximately-guesstimate-wave-drag\n",
    "  # Drag Divergence Mach number: Mach number where \"wave drag c_d_w starts becoming relevant\"\n",
    "  drag_divergence_mach_number = \\\n",
    "    (airfoil_technology_factor / math.cos(sweep_angle.to(rad).magnitude)) + \\\n",
    "    (thickness_chord_ratio / (math.cos(sweep_angle.to(rad).magnitude))**2)\n",
    "  # Mach critical number: \"the [Mach] number at which the flow becomes locally supersonic\"\n",
    "  mach_critical_number = drag_divergence_mach_number - (0.1/80)**(1/3)\n",
    "  # wave drag coefficient: \n",
    "  #   \"component of the aerodynamic drag [...] projectiles moving at \n",
    "  #   transonic and supersonic speeds, due to the presence of shock waves\"\n",
    "  #   https://en.wikipedia.org/wiki/Wave_drag\n",
    "  # Following forumla from: https://aviation.stackexchange.com/questions/55169/how-can-one-approximately-guesstimate-wave-drag\n",
    "  wave_drag_coefficient = 20 * (mach_number - mach_critical_number)**4\n",
    "\n",
    "  # normal drag coefficient:\n",
    "\n",
    "\n",
    "# test formulas for altitude range from 0km to 100km\n",
    "altitudes = np.linspace(0, 100*km, 100)\n",
    "pressures = [pressure_at_altitude(altitude) for altitude in altitudes]\n",
    "densities = [density_at_altitude(altitude) for altitude in altitudes]\n",
    "\n",
    "# convert to unitless floats\n",
    "altitudes = [altitude.to(km).magnitude for altitude in altitudes]\n",
    "pressures = [pressure.to(Pa).magnitude for pressure in pressures]\n",
    "densities = [density.to(kg/L).magnitude for density in densities]\n",
    "\n",
    "# plot results\n",
    "## pressure\n",
    "fig, ax1 = plt.subplots()\n",
    "ax1.set_xlabel('Altitude (km)')\n",
    "ax1.set_ylabel('Pressure (Pa)')\n",
    "ax1.plot(altitudes, pressures, color='blue')\n",
    "ax1.tick_params(axis='y', labelcolor='blue')\n",
    "## density\n",
    "ax2 = ax1.twinx()\n",
    "ax2.set_ylabel('Density (kg/L)')\n",
    "ax2.plot(altitudes, densities, color='red', linestyle='-.')\n",
    "ax2.tick_params(axis='y', labelcolor='red')\n",
    "fig.tight_layout()\n",
    "plt.show()"
   ]
  },
  {
   "cell_type": "code",
   "execution_count": 44,
   "metadata": {},
   "outputs": [
    {
     "data": {
      "image/png": "[encoded data removed]",
      "text/plain": [
       "<Figure size 432x288 with 2 Axes>"
      ]
     },
     "metadata": {
      "needs_background": "light"
     },
     "output_type": "display_data"
    }
   ],
   "source": [
    "class WindModel:\n",
    "  def simulate_velocity(self): ...\n",
    "\n",
    "class BrownianWindModel(WindModel):\n",
    "  def simulate_velocity(self): ...\n",
    "\n",
    "class JacobsWindModel(WindModel):\n",
    "  fluctuation_rate=1.0/s\n",
    "  typical_horizontal_wind_speed = 10*m/s\n",
    "  typical_vertical_wind_speed = 0*m/s\n",
    "\n",
    "  _prev_wind_vel = np.array([0, 0, 0])*m/s\n",
    "  def simulate_velocity(self, altitude, dt): \n",
    "\n",
    "    # get xy and z components of the wind\n",
    "    prev_horizontal_wind_speed = magnitude(prev_wind_vel[0:2])\n",
    "    prev_vertical_wind_speed = prev_wind_vel[2]\n",
    "    # random fluctuation generally in same direction as previous wind\n",
    "    random_wind_vel = np.random.normal(\n",
    "      loc=prev_wind_vel.to(m/s).magnitude,\n",
    "      scale=[\n",
    "        typical_horizontal_wind_speed.to(m/s).magnitude,\n",
    "        typical_horizontal_wind_speed.to(m/s).magnitude,\n",
    "        typical_vertical_wind_speed.to(m/s).magnitude,\n",
    "      ]\n",
    "    ) * m/s\n",
    "\n",
    "    # calculate the effect of this fluctuation on the wind speed\n",
    "    beta = fluctuation_rate * dt\n",
    "    assert 0 < beta < 1, f'`fluctuation_impact_per_second * dt` must be between 0 and 1 but is: {beta}'\n",
    "    new_wind_vel = beta*random_wind_vel + (1-beta)*prev_wind_vel\n",
    "    \n",
    "    return new_wind_vel\n",
    "\n",
    "# simulate wind along a trajectory\n",
    "\n",
    "## generate input data\n",
    "duration = 100*s\n",
    "dt = 1e-2*s\n",
    "steps = int(duration/dt)\n",
    "Ts = np.linspace(0, duration, steps)\n",
    "Xs = np.linspace(0, 0, steps)\n",
    "Ys = np.linspace(0, 0, steps)\n",
    "Zs = np.linspace(0, 100*km, steps)\n",
    "\n",
    "## simulate wind\n",
    "prev_wind_vel = np.array([0, 0, 0])*m/s\n",
    "wind_vels = []\n",
    "for step, t in enumerate(Ts):\n",
    "  wind_vel = estimate_wind_velocity(\n",
    "    altitude=Zs[step], prev_wind_vel=prev_wind_vel, dt=dt,\n",
    "    fluctuation_rate=1.0/s)\n",
    "  wind_vels.append(wind_vel)\n",
    "  prev_wind_vel = wind_vel\n",
    "wind_speeds = [\n",
    "  magnitude(wind_vel.to(m/s).magnitude)\n",
    "  for wind_vel in wind_vels]\n",
    "\n",
    "## plot results\n",
    "fig, ax1 = plt.subplots()\n",
    "ax1.set_xlabel('Time (s)')\n",
    "ax1.set_ylabel('Wind speed (m/s)')\n",
    "ax1.plot(Ts, wind_speeds, color='blue')\n",
    "ax1.tick_params(axis='y', labelcolor='blue')\n",
    "ax2 = ax1.twinx()\n",
    "ax2.set_ylabel('Altitude (km)')\n",
    "ax2.plot(Ts, Zs, color='red')\n",
    "ax2.tick_params(axis='y', labelcolor='red')"
   ]
  },
  {
   "cell_type": "code",
   "execution_count": null,
   "metadata": {},
   "outputs": [],
   "source": [
    "def step(params: Params) -> Params:\n",
    "  # controller output (decisions)\n",
    "  ## TODO: should we deploy the parachute?\n",
    "  ## TODO: should we abort?\n",
    "\n",
    "  # calculate combustion variables\n",
    "  def isp(oxidizer_pressure, reducer_pressure, ambient_pressure):\n",
    "    return # TODO\n",
    "\n",
    "  # calculate propulsion variables\n",
    "\n",
    "  # calculate atmospheric variables\n",
    "  # TODO: pressure, density, air_viscosity, air_speed_of_sound, etc\n",
    "  ## frontal drag\n",
    "  # TODO\n",
    "  ## skin drag\n",
    "  # TODO\n",
    "  # https://en.wikipedia.org/wiki/Skin_friction_drag#Skin_friction_drag\n",
    "  # wind\n",
    "  calculate_wind\n",
    "\n",
    "  # update trajectory variables"
   ]
  },
  {
   "cell_type": "code",
   "execution_count": null,
   "metadata": {},
   "outputs": [],
   "source": [
    "params = DEFAULTS()\n",
    "\n",
    "while not done:\n",
    "  # update\n",
    "  params = step(params)\n",
    "\n",
    "  # save params"
   ]
  },
  {
   "cell_type": "markdown",
   "metadata": {},
   "source": [
    "## Performance\n",
    "\n",
    "This section will analyze the actual data collected for the rocket."
   ]
  },
  {
   "cell_type": "code",
   "execution_count": null,
   "metadata": {},
   "outputs": [],
   "source": []
  }
 ],
 "metadata": {
  "kernelspec": {
   "display_name": "Python 3.8.13 ('ai')",
   "language": "python",
   "name": "python3"
  },
  "language_info": {
   "codemirror_mode": {
    "name": "ipython",
    "version": 3
   },
   "file_extension": ".py",
   "mimetype": "text/x-python",
   "name": "python",
   "nbconvert_exporter": "python",
   "pygments_lexer": "ipython3",
   "version": "3.8.13"
  },
  "orig_nbformat": 4,
  "vscode": {
   "interpreter": {
    "hash": "605fe966a75bc2c3dfa708e269323e6491854b30a36f4e77953579e94649bfba"
   }
  }
 },
 "nbformat": 4,
 "nbformat_minor": 2
}
